{
  "cells": [
    {
      "cell_type": "markdown",
      "metadata": {
        "id": "Ty8sL7wRr8wf"
      },
      "source": [
        "#0. OBTENER MASTER.JSON\n",
        "\n",
        "Se debe abrir SCRIPT de video VIMEO y obtener enlace master.json completo, si posee .mp4 no es necesario este proceso"
      ]
    },
    {
      "cell_type": "markdown",
      "metadata": {
        "id": "3Vqg-wcqLeCj"
      },
      "source": [
        "#1. DESCARGA DE ARCHIVOS\n",
        "\n",
        "Se ingresa el parametro \n",
        "MASTER JSON, procede a descargar el audio y video en su mejor calidad (solo unos 2 minutos)"
      ]
    },
    {
      "cell_type": "code",
      "execution_count": 14,
      "metadata": {
        "cellView": "form",
        "id": "6HhPTnDXKrtv",
        "colab": {
          "base_uri": "https://localhost:8080/"
        },
        "outputId": "f46a7dcd-bc4b-4324-cba8-e590688e0e35"
      },
      "outputs": [
        {
          "output_type": "stream",
          "name": "stdout",
          "text": [
            "VIDEO URL: https://155vod-adaptive.akamaized.net/exp=1673162562~acl=%2F7f86e6b3-17d5-46a7-830c-9118e420c9b2%2F%2A~hmac=e652439993dc94e18d37eb545601227012ae484d9182fb0f0a50f46a3d8fa4da/7f86e6b3-17d5-46a7-830c-9118e420c9b2/parcel/video/79537f20.mp4\n",
            "Bitrate [(0, 191000), (1, 98000), (2, 66000)]\n",
            "AUDIO URL: https://155vod-adaptive.akamaized.net/exp=1673162562~acl=%2F7f86e6b3-17d5-46a7-830c-9118e420c9b2%2F%2A~hmac=e652439993dc94e18d37eb545601227012ae484d9182fb0f0a50f46a3d8fa4da/7f86e6b3-17d5-46a7-830c-9118e420c9b2/parcel/video/d2dc3786.mp4\n",
            "Downloading Files ...\n",
            "--2023-01-07 20:36:49--  https://155vod-adaptive.akamaized.net/exp=1673162562~acl=%2F7f86e6b3-17d5-46a7-830c-9118e420c9b2%2F%2A~hmac=e652439993dc94e18d37eb545601227012ae484d9182fb0f0a50f46a3d8fa4da/7f86e6b3-17d5-46a7-830c-9118e420c9b2/parcel/video/79537f20.mp4\n",
            "Resolving 155vod-adaptive.akamaized.net (155vod-adaptive.akamaized.net)... 23.222.5.78, 23.222.5.86, 2600:1408:5400:1::170c:9145, ...\n",
            "Connecting to 155vod-adaptive.akamaized.net (155vod-adaptive.akamaized.net)|23.222.5.78|:443... connected.\n",
            "HTTP request sent, awaiting response... 200 OK\n",
            "Length: 747450074 (713M) [video/mp4]\n",
            "Saving to: ‘79537f20.mp4’\n",
            "\n",
            "79537f20.mp4        100%[===================>] 712.82M  46.8MB/s    in 18s     \n",
            "\n",
            "2023-01-07 20:37:07 (40.0 MB/s) - ‘79537f20.mp4’ saved [747450074/747450074]\n",
            "\n",
            "--2023-01-07 20:37:07--  https://155vod-adaptive.akamaized.net/exp=1673162562~acl=%2F7f86e6b3-17d5-46a7-830c-9118e420c9b2%2F%2A~hmac=e652439993dc94e18d37eb545601227012ae484d9182fb0f0a50f46a3d8fa4da/7f86e6b3-17d5-46a7-830c-9118e420c9b2/parcel/video/d2dc3786.mp4\n",
            "Reusing existing connection to 155vod-adaptive.akamaized.net:443.\n",
            "HTTP request sent, awaiting response... 200 OK\n",
            "Length: 229931364 (219M) [video/mp4]\n",
            "Saving to: ‘d2dc3786.mp4’\n",
            "\n",
            "d2dc3786.mp4        100%[===================>] 219.28M  33.8MB/s    in 6.4s    \n",
            "\n",
            "2023-01-07 20:37:14 (34.4 MB/s) - ‘d2dc3786.mp4’ saved [229931364/229931364]\n",
            "\n",
            "FINISHED --2023-01-07 20:37:14--\n",
            "Total wall clock time: 25s\n",
            "Downloaded: 2 files, 932M in 24s (38.5 MB/s)\n",
            "CPU times: user 475 ms, sys: 69 ms, total: 544 ms\n",
            "Wall time: 25.2 s\n",
            "Download Files!!!\n",
            "d2dc3786.mp4\n",
            "79537f20.mp4\n"
          ]
        }
      ],
      "source": [
        "#@title Enlace json de Vimeo a descargar\n",
        "#!/bin/env python3\n",
        "\n",
        "#import argparse\n",
        "import subprocess\n",
        "import requests\n",
        "\n",
        "#    master_json_url = \"https://91vod-adaptive.akamaized.net\" \\\n",
        "#    \"/exp=1668939686\" \\\n",
        "#    \"~acl=%2F842360cb-7711-4e48-9bd5-144e4686a2e2%2F%2A\" \\\n",
        "#    \"~hmac=a982f9ed2cc1e2fc7c61201f9997e0262917b13a89494c4169e4b3848d148f59/842360cb-7711-4e48-9bd5-144e4686a2e2\" \\\n",
        "#    \"/sep\" \\\n",
        "#    \"/video/e524c67d,336fea7d,5e87cb6d,306933cc,d42a911f\" \\\n",
        "#    \"/audio/ebb79ef9,7c03de6a,cad3266d\" \\\n",
        "#    \"/master.json?query_string_ranges=1&base64_init=1\" \\\n",
        "\n",
        "#master_json_url = \"https://91vod-adaptive.akamaized.net/exp=1668995241~acl=%2F842360cb-7711-4e48-9bd5-144e4686a2e2%2F%2A~hmac=9d08db3017c9c54bb1732988a82f58f114024eb14419590f5108bfe05e7d36a6/842360cb-7711-4e48-9bd5-144e4686a2e2/sep/video/e524c67d,336fea7d,5e87cb6d,306933cc,d42a911f/audio/ebb79ef9,7c03de6a,cad3266d/master.json?query_string_ranges=1&base64_init=1\"\n",
        "#output_file = \"/content/drive/MyDrive/DINTA/Clase21/result.mp4\"  # \"./result.mp4\"\n",
        "\n",
        "\n",
        "#@markdown Datos para procesar master.json\n",
        "master_json_url = \"https://155vod-adaptive.akamaized.net/exp=1673162562~acl=%2F7f86e6b3-17d5-46a7-830c-9118e420c9b2%2F%2A~hmac=e652439993dc94e18d37eb545601227012ae484d9182fb0f0a50f46a3d8fa4da/7f86e6b3-17d5-46a7-830c-9118e420c9b2/sep/video/a88c80d2,79537f20,2829734d,1c49ad8a,5cbd23ae/audio/295dd56b,d2dc3786,dc98826e/master.json?query_string_ranges=1&base64_init=1\" #@param {type: \"string\"}\n",
        "#@markdown ---\n",
        "\n",
        "\n",
        "\n",
        "#if len(sys.argv) > 1:\n",
        "#     master_json_url = sys.argv[1]\n",
        "#     output_file = sys.argv[2]\n",
        "#else:\n",
        "#    print('master.json must be passed as argument', file=sys.stderr)\n",
        "#    exit(1)\n",
        "\n",
        "# eliminanos de /SEP/ en adelante y agregamos /PARCEL/\n",
        "base_url = master_json_url[:master_json_url.rfind('/sep/')]\n",
        "#base_url = \"https://117vod-adaptive.akamaized.net/exp=1668959455~acl=%2Fa78da094-44ed-4dc3-980a-19095f3b9acc%2F%2A~hmac=abf8ebfffc8c80493c37fd6cef039d13fd7371e53e72db5ba133abe20ba619f2/a78da094-44ed-4dc3-980a-19095f3b9acc/\"\n",
        "base_url = base_url + \"/parcel/\"\n",
        "\n",
        "# obtenemos el MASTER.JSON\n",
        "resp = requests.get(master_json_url)\n",
        "content = resp.json()\n",
        "\n",
        "# obtenemos la calidad mas alta de video\n",
        "heights = [(i, d['height']) for (i, d) in enumerate(content['video'])]\n",
        "idx, _ = max(heights, key=lambda h: h[1])\n",
        "video = content['video'][idx]\n",
        "video_base_url = base_url + video['base_url']\n",
        "video_base_url = base_url + 'video/'\n",
        "video_file =  video['id'] + '.mp4'\n",
        "video_url = video_base_url + video_file\n",
        "print('VIDEO URL:', video_url)\n",
        "\n",
        "# Audio download here\n",
        "bitrate = [(i, d['bitrate']) for (i, d) in enumerate(content['audio'])]\n",
        "\n",
        "print('Bitrate', bitrate)\n",
        "\n",
        "idx, _ = max(bitrate, key=lambda x: x[1])\n",
        "audio = content['audio'][idx]\n",
        "audio_base_url = base_url + audio['base_url']\n",
        "audio_base_url = base_url + 'audio/'\n",
        "audio_file = audio['id'] + '.mp4'\n",
        "audio_url = video_base_url + audio_file\n",
        "print('AUDIO URL:', audio_url)\n",
        "\n",
        "print(\"Downloading Files ...\")\n",
        "with open(\"files.txt\",\"w\") as file:\n",
        "    file.write(video_file+\"\\n\")\n",
        "    file.write(audio_file+\"\\n\")\n",
        "\n",
        "with open(\"urls.txt\",\"w\") as file:\n",
        "    file.write(video_url+\"\\n\")\n",
        "    file.write(audio_url+\"\\n\")\n",
        "\n",
        "%time !wget -i urls.txt\n",
        "print(\"Download Files!!!\")\n",
        "\n",
        "print( audio_file )\n",
        "print( video_file )"
      ]
    },
    {
      "cell_type": "markdown",
      "metadata": {
        "id": "pZ10JnSdP7ty"
      },
      "source": [
        "#2. MONTAR GDRIVE\n",
        "\n",
        "Se monta google Drive, para que el archivo resultante, quede disponible aun despues de la sesion Colab"
      ]
    },
    {
      "cell_type": "code",
      "execution_count": 6,
      "metadata": {
        "cellView": "form",
        "id": "3nNW_D7YP7Lc"
      },
      "outputs": [],
      "source": [
        "#@title Autorizar acceso a Google Drive\n",
        "#@markdown Datos para Auth2\n",
        "REQUERIR_DRIVE = False  #@param {type: \"boolean\"}\n",
        "#@markdown ---\n",
        "\n",
        "if (REQUERIR_DRIVE) :\n",
        "   from google.colab import drive\n",
        "   drive.mount('/content/drive')\n"
      ]
    },
    {
      "cell_type": "markdown",
      "metadata": {
        "id": "_cubyfCnLlmL"
      },
      "source": [
        "#3. MUX AUDIO/VIDEO EN MP4\n",
        "\n",
        "Se ejecuta proceso para unir ambos archivos utilizando MKV Tool NIX, a diferencia del antiguo MIX realizado con FFMPEG, este darda solo segundos y no horas, ya que NO realiza CODE al obtener como resultado un archivo .MKV que solo une ambos archivos. Youtube acepta este formato, aunque le toma mas tiempo el proceso interno a youtube"
      ]
    },
    {
      "cell_type": "code",
      "source": [
        "#@title Libreria MKV TOOL NIX\n",
        "#@markdown \n",
        "#@markdown Install MKVToolNix\n",
        "\n",
        "import os\n",
        "from IPython.display import clear_output\n",
        "\n",
        "Version = \"70.0.0\" #@param {type:\"string\"}\n",
        "downloadLink = f'https://mkvtoolnix.download/appimage/MKVToolNix_GUI-{Version}-x86_64.AppImage'\n",
        "\n",
        "mkvpropedit = '/usr/local/bin/mkvpropedit'\n",
        "mkvmerge = '/usr/local/bin/mkvmerge'\n",
        "mkvextract = '/usr/local/bin/mkvextract'\n",
        "mkvinfo = '/usr/local/bin/mkvinfo'\n",
        "\n",
        "if os.path.exists(mkvpropedit) is True:\n",
        "    !rm {mkvpropedit}\n",
        "if os.path.exists(mkvmerge) is True:\n",
        "    !rm {mkvmerge}\n",
        "if os.path.exists(mkvextract) is True:\n",
        "    !rm {mkvextract}\n",
        "if os.path.exists(mkvinfo) is True:\n",
        "    !rm {mkvinfo}\n",
        "\n",
        "!sudo curl -L {downloadLink} -o /usr/local/bin/MKVToolNix_GUI.AppImage\n",
        "!sudo chmod u+rx /usr/local/bin/MKVToolNix_GUI.AppImage\n",
        "!sudo ln -s /usr/local/bin/MKVToolNix_GUI.AppImage /usr/local/bin/mkvpropedit\n",
        "!sudo chmod a+rx /usr/local/bin/mkvpropedit\n",
        "!sudo ln -s /usr/local/bin/MKVToolNix_GUI.AppImage /usr/local/bin/mkvmerge\n",
        "!sudo chmod a+rx /usr/local/bin/mkvmerge\n",
        "!sudo ln -s /usr/local/bin/MKVToolNix_GUI.AppImage /usr/local/bin/mkvextract\n",
        "!sudo chmod a+rx /usr/local/bin/mkvextract\n",
        "!sudo ln -s /usr/local/bin/MKVToolNix_GUI.AppImage /usr/local/bin/mkvinfo\n",
        "!sudo chmod a+rx /usr/local/bin/mkvinfo\n",
        "\n",
        "clear_output()\n",
        "print(\"Successfully Installed.\")"
      ],
      "metadata": {
        "colab": {
          "base_uri": "https://localhost:8080/"
        },
        "cellView": "form",
        "id": "DyNrpsjiA6_o",
        "outputId": "e955180c-607d-4b83-f6c8-51803e351cc9"
      },
      "execution_count": 2,
      "outputs": [
        {
          "output_type": "stream",
          "name": "stdout",
          "text": [
            "Successfully Installed.\n"
          ]
        }
      ]
    },
    {
      "cell_type": "code",
      "source": [
        "#@title Combinar archivo audio con video\n",
        "#@markdown Datos para Mux de Audio Video\n",
        "#video_file =   #@param {type: \"string\"}\n",
        "#audio_file = audio_file  #@param {type: \"string\"}\n",
        "output_file = \"output.mkv\"  #@param {type: \"string\"}\n",
        "#@markdown ---\n",
        "\n",
        "#@title\n",
        "#--track-name 1:video --language 1:spa --default-track-flag 1:yes \n",
        "commandLine = f'--output {output_file} --no-audio --no-subtitles --no-attachments --no-track-tags --no-global-tags --no-chapters  --forced-display-flag 1:yes {video_file} --track-name 0:uno --language 0:spa --default-track-flag 0:yes --forced-display-flag 0:no {audio_file}  '\n",
        "#!mkvmerge --output output.mkv --no-audio --no-subtitles --no-attachments --no-track-tags --no-global-tags --no-chapters  --track-name 1:video --language 1:spa --default-track-flag 1:yes --forced-display-flag 1:yes cfae1636.mp4 --track-name 0:uno --language 0:spa --default-track-flag 0:yes --forced-display-flag 0:no f5d223fd.mp4\n",
        "print(commandLine)\n",
        "!mkvmerge {commandLine}\n"
      ],
      "metadata": {
        "colab": {
          "base_uri": "https://localhost:8080/"
        },
        "cellView": "form",
        "id": "QS7LEhf0C52m",
        "outputId": "1765446b-9715-46c0-b817-373f92e3f516"
      },
      "execution_count": 19,
      "outputs": [
        {
          "output_type": "stream",
          "name": "stdout",
          "text": [
            "--output output.mkv --no-audio --no-subtitles --no-attachments --no-track-tags --no-global-tags --no-chapters  --forced-display-flag 1:yes 79537f20.mp4 --track-name 0:uno --language 0:spa --default-track-flag 0:yes --forced-display-flag 0:no d2dc3786.mp4  \n",
            "mkvmerge v70.0.0 ('Caught A Lite Sneeze') 64-bit\n",
            "'79537f20.mp4': Using the demultiplexer for the format 'QuickTime/MP4'.\n",
            "'d2dc3786.mp4': Using the demultiplexer for the format 'QuickTime/MP4'.\n",
            "'79537f20.mp4' track 0: Using the output module for the format 'AVC/H.264'.\n",
            "'d2dc3786.mp4' track 0: Using the output module for the format 'AAC'.\n",
            "The file 'output.mkv' has been opened for writing.\n",
            "Progress: 100%\n",
            "The cue entries (the index) are being written...\n",
            "Multiplexing took 12 seconds.\n"
          ]
        }
      ]
    },
    {
      "cell_type": "markdown",
      "metadata": {
        "id": "A2C1q60GLp98"
      },
      "source": [
        "#4. AUTH GOOGLE\n",
        "\n",
        "1. Se otorga permiso para acceder a Youtube y poder subir archivos, se requiere haber subido el archivo client_secret.json\n",
        "1. Se debe abrir link, aceptar condiciones, copiar codigo y pegar en consola\n"
      ]
    },
    {
      "cell_type": "code",
      "execution_count": 8,
      "metadata": {
        "cellView": "form",
        "id": "q22PUWP1Q5hL",
        "colab": {
          "base_uri": "https://localhost:8080/"
        },
        "outputId": "7ab13f0a-440e-4fc2-a3de-4d371d2c6989"
      },
      "outputs": [
        {
          "output_type": "stream",
          "name": "stdout",
          "text": [
            "YT KEY:\n",
            "<googleapiclient.discovery.Resource object at 0x7fbf3dc970a0>\n"
          ]
        }
      ],
      "source": [
        "#!/usr/bin/python\n",
        "\n",
        "#en console.cloud.google.com\n",
        "# habilitar Credenciales Pantalla inicio\n",
        "# Habilitar OAuth 2.0 modo Desktop\n",
        "# descargar secret_client.json\n",
        "# Habilitar la API especifica\n",
        "#https://console.developers.google.com/apis/api/youtube.googleapis.com/overview?project=655932566158\n",
        "\n",
        "#desde la APP cliente\n",
        "# usando el client_secret.json, SCPE, AP y API version\n",
        "# entregara LINK para habilitar permiso\n",
        "# entregara un codigo para pegar en el cliente\n",
        "\n",
        "\n",
        "import httplib2\n",
        "import os\n",
        "import random\n",
        "import time\n",
        "\n",
        "import google.oauth2.credentials\n",
        "import google_auth_oauthlib.flow\n",
        "from googleapiclient.discovery import build\n",
        "from googleapiclient.errors import HttpError\n",
        "from googleapiclient.http import MediaFileUpload\n",
        "from google_auth_oauthlib.flow import InstalledAppFlow\n",
        "\n",
        "\n",
        "#@title Permisos para subir a Youtube\n",
        "#@markdown Datos para Auth2\n",
        "REQUERIR = False  #@param {type: \"boolean\"}\n",
        "CLIENT_SECRETS_FILE = \"client_secret.json\" #@param {type: \"string\"}\n",
        "#@markdown ---\n",
        "\n",
        "\n",
        "SCOPES = ['https://www.googleapis.com/auth/youtube.upload']\n",
        "API_SERVICE_NAME = 'youtube'\n",
        "API_VERSION = 'v3'\n",
        "\n",
        "# Authorize the request and store authorization credentials.\n",
        "def get_authenticated_service():\n",
        "  flow = InstalledAppFlow.from_client_secrets_file(CLIENT_SECRETS_FILE, SCOPES)\n",
        "  credentials = flow.run_console()\n",
        "  return build(API_SERVICE_NAME, API_VERSION, credentials = credentials)\n",
        "\n",
        "# si se requiere solicita nuevamente la autorizacion y la guarda en YT\n",
        "if(REQUERIR): \n",
        "  youtube = get_authenticated_service()\n",
        "  import pickle\n",
        "  file1 = open(\"yt\", \"wb\") \n",
        "  pickle.dump(youtube, file1)\n",
        "  file1.close\n",
        "# si no se requiere cargara la autorizacion del archivo YT\n",
        "else:\n",
        "  import pickle\n",
        "  with open('yt', 'rb') as f:\n",
        "      youtube = pickle.load(f)\n",
        "\n",
        "print('YT KEY:')\n",
        "print(youtube)"
      ]
    },
    {
      "cell_type": "markdown",
      "metadata": {
        "id": "EuG8Oah6Luw4"
      },
      "source": [
        "#5. SUBIR A YOUTUBE\n",
        "\n",
        "Realiza proceso de carga del archivo mp4 resultante, almacenado en google Drive\n",
        "(solo unos 30 segundos)"
      ]
    },
    {
      "cell_type": "code",
      "execution_count": 17,
      "metadata": {
        "cellView": "form",
        "id": "4y58R4fIUKGA",
        "colab": {
          "base_uri": "https://localhost:8080/"
        },
        "outputId": "659882c8-9bea-41df-fa21-1aa135ab19c2"
      },
      "outputs": [
        {
          "output_type": "stream",
          "name": "stdout",
          "text": [
            "Uploading file...\n",
            "Video id \"2xmIAxhXgt0\" was successfully uploaded.\n"
          ]
        }
      ],
      "source": [
        "#@title Subir archivo procesado a Youtube\n",
        "#@markdown Datos para subir video\n",
        "TITULO_VIDEO = \" Clase 29: Modelos generativos\" #@param {type: \"string\"}\n",
        "PRIVACY = \"unlisted\"  #@param ['public', 'private', 'unlisted']\n",
        "#@markdown ---\n",
        "\n",
        "\n",
        "\n",
        "# previamente definido\n",
        "MEDIA_FILE_PATH = output_file\n",
        "\n",
        "httplib2.RETRIES = 1\n",
        "MAX_RETRIES = 10\n",
        "RETRIABLE_EXCEPTIONS = (httplib2.HttpLib2Error, IOError)\n",
        "RETRIABLE_STATUS_CODES = [500, 502, 503, 504]\n",
        "VALID_PRIVACY_STATUSES = ('public', 'private', 'unlisted')\n",
        "\n",
        "def initialize_upload(youtube, title_video):\n",
        "\n",
        "  options_title = title_video\n",
        "  options_description ='Video description'\n",
        "  options_category ='22'\n",
        "  options_privacyStatus = PRIVACY #'unlisted'\n",
        "\n",
        "  body=dict(\n",
        "    snippet=dict(\n",
        "      title=options_title,\n",
        "      description=options_description,\n",
        "      categoryId=options_category\n",
        "    ),\n",
        "    status=dict(\n",
        "      privacyStatus=options_privacyStatus\n",
        "    )\n",
        "  )\n",
        "\n",
        "  insert_request = youtube.videos().insert(\n",
        "    part=','.join(body.keys()),\n",
        "    body=body,\n",
        "    media_body=MediaFileUpload(MEDIA_FILE_PATH, chunksize=-1, resumable=True)\n",
        "  )\n",
        "\n",
        "  resumable_upload(insert_request)\n",
        "\n",
        "def resumable_upload(request):\n",
        "  response = None\n",
        "  error = None\n",
        "  retry = 0\n",
        "  while response is None:\n",
        "    try:\n",
        "      print ('Uploading file...')\n",
        "      status, response = request.next_chunk()\n",
        "      if response is not None:\n",
        "        if 'id' in response:\n",
        "          print ('Video id \"%s\" was successfully uploaded.' % response['id'])\n",
        "        else:\n",
        "          exit('The upload failed with an unexpected response: %s' % response)\n",
        "    except HttpError as e:\n",
        "      if e.resp.status in RETRIABLE_STATUS_CODES:\n",
        "        error = 'A retriable HTTP error %d occurred:\\n%s' % (e.resp.status, e.content)\n",
        "      else:\n",
        "        raise\n",
        "    except RETRIABLE_EXCEPTIONS as e:\n",
        "      error = 'A retriable error occurred: %s' % e\n",
        "\n",
        "    if error is not None:\n",
        "      print (error)\n",
        "      retry += 1\n",
        "      if retry > MAX_RETRIES:\n",
        "        exit('No longer attempting to retry.')\n",
        "\n",
        "      max_sleep = 2 ** retry\n",
        "      sleep_seconds = random.random() * max_sleep\n",
        "      print ('Sleeping %f seconds and then retrying...' % sleep_seconds)\n",
        "      time.sleep(sleep_seconds)\n",
        "\n",
        "def uploadYT():\n",
        "# paso previamente realizado\n",
        "#  youtube = get_authenticated_service()\n",
        "\n",
        "  try:\n",
        "    initialize_upload(youtube, TITULO_VIDEO)\n",
        "  except HttpError as e:\n",
        "    print ('An HTTP error %d occurred:\\n%s' % e.resp.status, e.content)\n",
        "\n",
        "uploadYT()"
      ]
    },
    {
      "cell_type": "markdown",
      "metadata": {
        "id": "kvhlst2tsa_x"
      },
      "source": [
        "#6. PROPIEDADES DEL VIDEO EN YOUTUBE\n",
        "\n",
        "Mientras Youtube *Procesa el video*, se pueden configurar caracteristicas tales como la Descripcion, la Lista, etc. se deben realizar directamente en Youtube Studio"
      ]
    }
  ],
  "metadata": {
    "colab": {
      "provenance": []
    },
    "kernelspec": {
      "display_name": "Python 3",
      "name": "python3"
    },
    "language_info": {
      "name": "python"
    }
  },
  "nbformat": 4,
  "nbformat_minor": 0
}