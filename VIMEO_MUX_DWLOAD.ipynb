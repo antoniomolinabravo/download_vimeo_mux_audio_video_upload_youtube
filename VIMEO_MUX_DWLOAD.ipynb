{
  "cells": [
    {
      "cell_type": "markdown",
      "metadata": {
        "id": "Ty8sL7wRr8wf"
      },
      "source": [
        "#1. OBTENER LINK MASTER.JSON\n",
        "\n",
        "Copiar archivo HTML en RAIZ y poner el nombre para obtener enlace master.json completo, si posee .mp4 no es necesario este proceso"
      ]
    },
    {
      "cell_type": "code",
      "source": [
        "#@title\n",
        "#@markdown Archivo HTML\n",
        "video_html =  \"video.html\" #@param {type: \"string\" }\n",
        "# @ markdown ---\n",
        "\n",
        "find1='{\"url\":\"'\n",
        "find2='\",\"origin\"'\n",
        "\n",
        "#video_html = \"video.html\"\n",
        "with open(video_html,\"r\") as file:\n",
        "  contex = file.read()\n",
        "\n",
        "print ('LINK A COPIAR\\n')\n",
        "master_json=contex.split(find1)[1].split(find2)[0]\n",
        "master_json"
      ],
      "metadata": {
        "colab": {
          "base_uri": "https://localhost:8080/",
          "height": 122
        },
        "cellView": "form",
        "id": "50hzJRBrUxR5",
        "outputId": "388575a2-9620-418b-c7e7-38b01c1e991c"
      },
      "execution_count": 27,
      "outputs": [
        {
          "output_type": "stream",
          "name": "stdout",
          "text": [
            "LINK A COPIAR\n",
            "\n"
          ]
        },
        {
          "output_type": "execute_result",
          "data": {
            "text/plain": [
              "'https://195vod-adaptive.akamaized.net/exp=1665045822~acl=%2Ff2165557-05f6-44f6-91eb-703d6fc1c1b2%2F%2A~hmac=a9806b7965745c75962c3730e05966b7932c88047d8d5158532f6760012d5074/f2165557-05f6-44f6-91eb-703d6fc1c1b2/sep/video/c5432c5b,2c312ef7,359f27f8,f303633c,fce14279/audio/5e95e76b,6b1cca76,ee476b48/master.json?query_string_ranges=1&base64_init=1'"
            ],
            "application/vnd.google.colaboratory.intrinsic+json": {
              "type": "string"
            }
          },
          "metadata": {},
          "execution_count": 27
        }
      ]
    },
    {
      "cell_type": "markdown",
      "metadata": {
        "id": "3Vqg-wcqLeCj"
      },
      "source": [
        "#2. DESCARGA DE ARCHIVOS\n",
        "\n",
        "Se ingresa el parametro\n",
        "MASTER JSON, procede a descargar el audio y video en su mejor calidad (solo unos 2 minutos)"
      ]
    },
    {
      "cell_type": "code",
      "execution_count": null,
      "metadata": {
        "cellView": "form",
        "id": "6HhPTnDXKrtv"
      },
      "outputs": [],
      "source": [
        "#@title Enlace json de Vimeo a descargar\n",
        "#!/bin/env python3\n",
        "\n",
        "#import argparse\n",
        "import subprocess\n",
        "import requests\n",
        "\n",
        "#    master_json_url = \"https://91vod-adaptive.akamaized.net\" \\\n",
        "#    \"/exp=1668939686\" \\\n",
        "#    \"~acl=%2F842360cb-7711-4e48-9bd5-144e4686a2e2%2F%2A\" \\\n",
        "#    \"~hmac=a982f9ed2cc1e2fc7c61201f9997e0262917b13a89494c4169e4b3848d148f59/842360cb-7711-4e48-9bd5-144e4686a2e2\" \\\n",
        "#    \"/sep\" \\\n",
        "#    \"/video/e524c67d,336fea7d,5e87cb6d,306933cc,d42a911f\" \\\n",
        "#    \"/audio/ebb79ef9,7c03de6a,cad3266d\" \\\n",
        "#    \"/master.json?query_string_ranges=1&base64_init=1\" \\\n",
        "\n",
        "#master_json_url = \"https://91vod-adaptive.akamaized.net/exp=1668995241~acl=%2F842360cb-7711-4e48-9bd5-144e4686a2e2%2F%2A~hmac=9d08db3017c9c54bb1732988a82f58f114024eb14419590f5108bfe05e7d36a6/842360cb-7711-4e48-9bd5-144e4686a2e2/sep/video/e524c67d,336fea7d,5e87cb6d,306933cc,d42a911f/audio/ebb79ef9,7c03de6a,cad3266d/master.json?query_string_ranges=1&base64_init=1\"\n",
        "#output_file = \"/content/drive/MyDrive/DINTA/Clase21/result.mp4\"  # \"./result.mp4\"\n",
        "\n",
        "#master_json_url = master_json\n",
        "#@markdown Datos para procesar master.json\n",
        "master_json_url =  PEGAR LINK AQUI #@param {type: \"string\" }\n",
        "#sample \"https://57vod-adaptive.akamaized.net/exp=1686297949~acl=%2F4bdd866d-6b55-4651-880a-91db624ac528%2F%2A~hmac=3e6cb7cb7f37fe6c056cb09b1a9e4e11c3ddf4a342b8fd8581cc4b269630e1b3/4bdd866d-6b55-4651-880a-91db624ac528/sep/video/2062e218,2b1f72ad,9a3d5e13,c3d65349,c4fcc39e/audio/84f68df9,ed4da030,faf555b2/master.json?base64_init=1\\\\u0026query_string_ranges=1\" #@param {type: \"string\"}\n",
        "#@markdown ---\n",
        "\n",
        "#if len(sys.argv) > 1:\n",
        "#     master_json_url = sys.argv[1]\n",
        "#     output_file = sys.argv[2]\n",
        "#else:\n",
        "#    print('master.json must be passed as argument', file=sys.stderr)\n",
        "#    exit(1)\n",
        "\n",
        "# eliminanos de /SEP/ en adelante y agregamos /PARCEL/\n",
        "base_url = master_json_url[:master_json_url.rfind('/sep/')]\n",
        "#base_url = \"https://117vod-adaptive.akamaized.net/exp=1668959455~acl=%2Fa78da094-44ed-4dc3-980a-19095f3b9acc%2F%2A~hmac=abf8ebfffc8c80493c37fd6cef039d13fd7371e53e72db5ba133abe20ba619f2/a78da094-44ed-4dc3-980a-19095f3b9acc/\"\n",
        "base_url = base_url + \"/parcel/\"\n",
        "\n",
        "# obtenemos el MASTER.JSON\n",
        "resp = requests.get(master_json_url)\n",
        "content = resp.json()\n",
        "\n",
        "# obtenemos la calidad mas alta de video\n",
        "heights = [(i, d['height']) for (i, d) in enumerate(content['video'])]\n",
        "idx, _ = max(heights, key=lambda h: h[1])\n",
        "video = content['video'][idx]\n",
        "video_base_url = base_url + video['base_url']\n",
        "video_base_url = base_url + 'video/'\n",
        "video_file =  video['id'] + '.mp4'\n",
        "video_url = video_base_url + video_file\n",
        "print('VIDEO URL:', video_url)\n",
        "\n",
        "# Audio download here\n",
        "bitrate = [(i, d['bitrate']) for (i, d) in enumerate(content['audio'])]\n",
        "\n",
        "print('Bitrate', bitrate)\n",
        "\n",
        "idx, _ = max(bitrate, key=lambda x: x[1])\n",
        "audio = content['audio'][idx]\n",
        "audio_base_url = base_url + audio['base_url']\n",
        "audio_base_url = base_url + 'audio/'\n",
        "audio_file = audio['id'] + '.mp4'\n",
        "audio_url = video_base_url + audio_file\n",
        "print('AUDIO URL:', audio_url)\n",
        "\n",
        "print(\"Downloading Files ...\")\n",
        "with open(\"files.txt\",\"w\") as file:\n",
        "    file.write(video_file+\"\\n\")\n",
        "    file.write(audio_file+\"\\n\")\n",
        "\n",
        "with open(\"urls.txt\",\"w\") as file:\n",
        "    file.write(video_url+\"\\n\")\n",
        "    file.write(audio_url+\"\\n\")\n",
        "\n",
        "%time !wget -i urls.txt\n",
        "print(\"Download Files!!!\")\n",
        "\n",
        "print( audio_file )\n",
        "print( video_file )\n",
        "\n",
        "print (\"DOWNLOAD READY\")"
      ]
    },
    {
      "cell_type": "markdown",
      "metadata": {
        "id": "_cubyfCnLlmL"
      },
      "source": [
        "#3. MUX AUDIO/VIDEO EN MP4\n",
        "\n",
        "Se ejecuta proceso para unir ambos archivos utilizando MKV Tool NIX, a diferencia del antiguo MIX realizado con FFMPEG, este darda solo segundos y no horas, ya que NO realiza CODE al obtener como resultado un archivo .MKV que solo une ambos archivos. Youtube acepta este formato, aunque le toma mas tiempo el proceso interno a youtube"
      ]
    },
    {
      "cell_type": "code",
      "source": [
        "#@title Libreria MKV TOOL NIX\n",
        "#@markdown\n",
        "#@markdown Install MKVToolNix\n",
        "\n",
        "import os\n",
        "from IPython.display import clear_output\n",
        "\n",
        "Version = \"70.0.0\" #@param {type:\"string\"}\n",
        "downloadLink = f'https://mkvtoolnix.download/appimage/MKVToolNix_GUI-{Version}-x86_64.AppImage'\n",
        "\n",
        "mkvpropedit = '/usr/local/bin/mkvpropedit'\n",
        "mkvmerge = '/usr/local/bin/mkvmerge'\n",
        "mkvextract = '/usr/local/bin/mkvextract'\n",
        "mkvinfo = '/usr/local/bin/mkvinfo'\n",
        "\n",
        "if os.path.exists(mkvpropedit) is True:\n",
        "    !rm {mkvpropedit}\n",
        "if os.path.exists(mkvmerge) is True:\n",
        "    !rm {mkvmerge}\n",
        "if os.path.exists(mkvextract) is True:\n",
        "    !rm {mkvextract}\n",
        "if os.path.exists(mkvinfo) is True:\n",
        "    !rm {mkvinfo}\n",
        "\n",
        "!sudo curl -L {downloadLink} -o /usr/local/bin/MKVToolNix_GUI.AppImage\n",
        "!sudo chmod u+rx /usr/local/bin/MKVToolNix_GUI.AppImage\n",
        "!sudo ln -s /usr/local/bin/MKVToolNix_GUI.AppImage /usr/local/bin/mkvpropedit\n",
        "!sudo chmod a+rx /usr/local/bin/mkvpropedit\n",
        "!sudo ln -s /usr/local/bin/MKVToolNix_GUI.AppImage /usr/local/bin/mkvmerge\n",
        "!sudo chmod a+rx /usr/local/bin/mkvmerge\n",
        "!sudo ln -s /usr/local/bin/MKVToolNix_GUI.AppImage /usr/local/bin/mkvextract\n",
        "!sudo chmod a+rx /usr/local/bin/mkvextract\n",
        "!sudo ln -s /usr/local/bin/MKVToolNix_GUI.AppImage /usr/local/bin/mkvinfo\n",
        "!sudo chmod a+rx /usr/local/bin/mkvinfo\n",
        "\n",
        "clear_output()\n",
        "print(\"Successfully Installed.\")"
      ],
      "metadata": {
        "colab": {
          "base_uri": "https://localhost:8080/"
        },
        "cellView": "form",
        "id": "DyNrpsjiA6_o",
        "outputId": "28841fc5-45fd-4e4e-be16-de47782d24db"
      },
      "execution_count": null,
      "outputs": [
        {
          "output_type": "stream",
          "name": "stdout",
          "text": [
            "Successfully Installed.\n"
          ]
        }
      ]
    },
    {
      "cell_type": "code",
      "source": [
        "#@title Combinar archivo audio con video\n",
        "#@markdown Datos para Mux de Audio Video\n",
        "#video_file =   #@param {type: \"string\"}\n",
        "#audio_file = audio_file  #@param {type: \"string\"}\n",
        "output_file = \"output.mkv\"  #@param {type: \"string\"}\n",
        "#@markdown ---\n",
        "\n",
        "#@title\n",
        "#--track-name 1:video --language 1:spa --default-track-flag 1:yes\n",
        "commandLine = f'--output {output_file} --no-audio --no-subtitles --no-attachments --no-track-tags --no-global-tags --no-chapters  --forced-display-flag 1:yes {video_file} --track-name 0:uno --language 0:spa --default-track-flag 0:yes --forced-display-flag 0:no {audio_file}  '\n",
        "#!mkvmerge --output output.mkv --no-audio --no-subtitles --no-attachments --no-track-tags --no-global-tags --no-chapters  --track-name 1:video --language 1:spa --default-track-flag 1:yes --forced-display-flag 1:yes cfae1636.mp4 --track-name 0:uno --language 0:spa --default-track-flag 0:yes --forced-display-flag 0:no f5d223fd.mp4\n",
        "print(commandLine)\n",
        "!mkvmerge {commandLine}\n"
      ],
      "metadata": {
        "cellView": "form",
        "id": "QS7LEhf0C52m"
      },
      "execution_count": null,
      "outputs": []
    },
    {
      "cell_type": "markdown",
      "metadata": {
        "id": "pZ10JnSdP7ty"
      },
      "source": [
        "#4. MONTAR GDRIVE\n",
        "\n",
        "Se monta google Drive, para que el archivo resultante, quede disponible aun despues de la sesion Colab"
      ]
    },
    {
      "cell_type": "code",
      "execution_count": null,
      "metadata": {
        "cellView": "form",
        "id": "3nNW_D7YP7Lc"
      },
      "outputs": [],
      "source": [
        "#@title Autorizar acceso a Google Drive\n",
        "#@markdown Datos para Auth2\n",
        "REQUERIR_DRIVE = False  #@param {type: \"boolean\"}\n",
        "#@markdown ---\n",
        "\n",
        "if (REQUERIR_DRIVE) :\n",
        "   from google.colab import drive\n",
        "   drive.mount('/content/drive')\n"
      ]
    },
    {
      "cell_type": "markdown",
      "source": [
        "#5. COPIAR VIDEO A DRIVE\n",
        "\n",
        "Se realiza copia manualmente o arrastrando o descargando con click en los tres botones del archivo"
      ],
      "metadata": {
        "id": "TUTisoQ0hJfY"
      }
    },
    {
      "cell_type": "code",
      "source": [
        "!cp output.mkv  /drive/..../archivo_video.mkv"
      ],
      "metadata": {
        "id": "VaTHqvsig9Tq"
      },
      "execution_count": null,
      "outputs": []
    }
  ],
  "metadata": {
    "colab": {
      "provenance": []
    },
    "kernelspec": {
      "display_name": "Python 3",
      "name": "python3"
    },
    "language_info": {
      "name": "python"
    }
  },
  "nbformat": 4,
  "nbformat_minor": 0
}